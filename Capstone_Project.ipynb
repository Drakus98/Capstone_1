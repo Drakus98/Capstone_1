{
 "cells": [
  {
   "cell_type": "code",
   "execution_count": 1,
   "id": "b7b8b035",
   "metadata": {},
   "outputs": [],
   "source": [
    "import numpy as np\n",
    "import pandas as pd\n",
    "import mysql.connector as sql\n",
    "import matplotlib.pyplot as plt\n",
    "import seaborn as sns\n",
    "from geopy.geocoders import Nominatim as nm\n",
    "from tqdm.notebook import tqdm\n",
    "\n",
    "%matplotlib qt\n"
   ]
  },
  {
   "cell_type": "code",
   "execution_count": 2,
   "id": "4c3874b7",
   "metadata": {},
   "outputs": [],
   "source": [
    "#IMPORTING ALL THREE DATA FRAMES \n",
    "df1 = pd.read_csv('events_data.csv')\n",
    "server = sql.connect(host='cpanel.insaid.co', database='Capstone1', user='student', password='student')\n",
    "\n",
    "df2 = pd.read_sql('SELECT * FROM gender_age_train', con=server)\n",
    "df3 = pd.read_sql('SELECT * FROM phone_brand_device_model', con=server)\n",
    "server.close\n",
    "\n",
    "#ADDITIONAL REQUIRED INFO\n",
    "eng_names = np.array([['华为','Huawei'],\n",
    "                      ['小米','Xiaomi'],\n",
    "                      ['三星','Samsung'],\n",
    "                      ['vivo','vivo'],\n",
    "                      ['OPPO','OPPO'],\n",
    "                      ['魅族','Meizu'],\n",
    "                      ['酷派','Coolpad'],\n",
    "                      ['乐视','LeEco'],\n",
    "                      ['联想','Lenovo'],\n",
    "                      ['HTC','HTC']])"
   ]
  },
  {
   "cell_type": "code",
   "execution_count": 3,
   "id": "5f59f8f0",
   "metadata": {},
   "outputs": [
    {
     "name": "stdout",
     "output_type": "stream",
     "text": [
      "Check 1 - Latitude and Longitude are always missing in pairs - False\n",
      "Check 2 - There are 943 unique city-state pairs, and 933 unique cities\n",
      "Check 4 - There are 32 unique entries in the \"state\" column.\n"
     ]
    }
   ],
   "source": [
    "# Check 1 - Whether longitude and latitude are always missing in pairs:\n",
    "# This code creates two dataframes, containing the index values (row numbers) of the rows where either one is missing, and then checks if the two dataframes are identical.\n",
    "# If they are identical, then they are always missing in pairs.\n",
    "Check1 = df1[df1['latitude'].isnull()].index.equals(df1['longitude'].isnull().index)\n",
    "print(\"Check 1 - Latitude and Longitude are always missing in pairs - \" + str(Check1))\n",
    "\n",
    "# Check 2 - Whether each city only exists in one state\n",
    "# This code creates a dataframe containing unique city-state pairs, and the length of this dataframe is compared to the number of unique cities.\n",
    "# If they are of different length, then we cannot calculate the state using the city\n",
    "city_state_pairs = df1[df1['state'].notnull()][['city','state']].drop_duplicates()\n",
    "unique_cities = df1['city'].nunique()\n",
    "print('Check 2 - There are ' + str(len(city_state_pairs)) + ' unique city-state pairs, and ' + str(unique_cities) + ' unique cities')\n",
    "#These two numbers are not equal. This means that some cities are present in multiple states. To verify:\n",
    "city_state_pairs['city'].value_counts()[0:11]\n",
    "\n",
    "# Check 3 - Whether we can use coordinates to find the state\n",
    "Check3a = df1[df1['latitude'].isnull()].index.tolist()\n",
    "Check3b = df1[df1['state'].isnull()].index.tolist()\n",
    "for i in Check3a:\n",
    "    if i in Check3b:\n",
    "        print('Check 3 - In row ' + str(i) + ', both the coordinates and the city are missing')\n",
    "# This prints nothing; therefore, we can use coordinates to find the city.\n",
    "# This is foolproof, as each coordinate pair MUST refer to only one state\n",
    "\n",
    "# Check 4 - Keep track of number of unique entries in \"state\"\n",
    "# After adding the states using geopy, if the syntax is wrong, then this will help detect that:\n",
    "print('Check 4 - There are ' + str(df1['state'].nunique()) + ' unique entries in the \"state\" column.')"
   ]
  },
  {
   "cell_type": "code",
   "execution_count": 4,
   "id": "032c03ff",
   "metadata": {},
   "outputs": [
    {
     "name": "stdout",
     "output_type": "stream",
     "text": [
      "32\n"
     ]
    }
   ],
   "source": [
    "#This is a list containing the index values of all rows where state is a null value.\n",
    "null_records = df1[df1['state'].isnull()].index.tolist()\n",
    "#This section of code fills in those values via geopy and a loop over the rows with null values\n",
    "geolocator = nm(user_agent=\"my-applications\")\n",
    "for i in null_records:\n",
    "    location = geolocator.reverse([df1.at[i,'latitude'],df1.at[i,'longitude']])\n",
    "    # the code for location is taken from https://www.geeksforgeeks.org/python-remove-spaces-from-a-string/\n",
    "    df1.at[i,'state'] = location.raw['address'].get('state', '').replace(' ','')\n",
    "\n",
    "print(df1['state'].nunique())\n",
    "df1 = df1[df1['state'] == \"Maharashtra\"]"
   ]
  },
  {
   "cell_type": "code",
   "execution_count": 6,
   "id": "b32d456d",
   "metadata": {},
   "outputs": [
    {
     "name": "stdout",
     "output_type": "stream",
     "text": [
      "<class 'pandas.core.frame.DataFrame'>\n",
      "Int64Index: 677168 entries, 9 to 3252946\n",
      "Data columns (total 7 columns):\n",
      " #   Column     Non-Null Count   Dtype  \n",
      "---  ------     --------------   -----  \n",
      " 0   event_id   677168 non-null  int64  \n",
      " 1   device_id  677096 non-null  float64\n",
      " 2   timestamp  677168 non-null  object \n",
      " 3   longitude  677105 non-null  float64\n",
      " 4   latitude   677105 non-null  float64\n",
      " 5   city       677168 non-null  object \n",
      " 6   state      677168 non-null  object \n",
      "dtypes: float64(3), int64(1), object(3)\n",
      "memory usage: 41.3+ MB\n"
     ]
    }
   ],
   "source": [
    "df1.info(show_counts=True)"
   ]
  },
  {
   "cell_type": "code",
   "execution_count": 51,
   "id": "95a18b93",
   "metadata": {},
   "outputs": [],
   "source": [
    "coords = df1[df1['latitude'].notnull()][['latitude','longitude']].reindex().values"
   ]
  },
  {
   "cell_type": "code",
   "execution_count": 56,
   "id": "945c78d5",
   "metadata": {},
   "outputs": [
    {
     "data": {
      "text/plain": [
       "<matplotlib.collections.PathCollection at 0x225d8949f10>"
      ]
     },
     "execution_count": 56,
     "metadata": {},
     "output_type": "execute_result"
    }
   ],
   "source": [
    "plt.scatter(coords[0:,0],coords[0:,1],s=1)"
   ]
  },
  {
   "cell_type": "code",
   "execution_count": null,
   "metadata": {},
   "outputs": [],
   "source": []
  }
 ],
 "metadata": {
  "kernelspec": {
   "display_name": "Python 3",
   "language": "python",
   "name": "python3"
  },
  "language_info": {
   "codemirror_mode": {
    "name": "ipython",
    "version": 3
   },
   "file_extension": ".py",
   "mimetype": "text/x-python",
   "name": "python",
   "nbconvert_exporter": "python",
   "pygments_lexer": "ipython3",
   "version": "3.9.7"
  }
 },
 "nbformat": 4,
 "nbformat_minor": 5
}
