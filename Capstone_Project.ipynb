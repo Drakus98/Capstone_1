{
 "cells": [
  {
   "cell_type": "code",
   "execution_count": 1,
   "id": "b7b8b035",
   "metadata": {},
   "outputs": [],
   "source": [
    "import numpy as np\n",
    "import pandas as pd\n",
    "import mysql.connector as sql\n",
    "import matplotlib.pyplot as plt\n",
    "import seaborn as sns\n",
    "from geopy.geocoders import Nominatim as nm\n",
    "import folium as fm\n",
    "from folium.plugins import MarkerCluster\n",
    "from tqdm.notebook import tqdm\n",
    "\n",
    "#%matplotlib qt\n"
   ]
  },
  {
   "cell_type": "code",
   "execution_count": 2,
   "id": "fe56b67e",
   "metadata": {},
   "outputs": [],
   "source": [
    "#IMPORTING ALL THREE DATA FRAMES \n",
    "df1 = pd.read_csv('events_data.csv')\n",
    "server = sql.connect(host='cpanel.insaid.co', database='Capstone1', user='student', password='student')\n",
    "\n",
    "df2 = pd.read_sql('SELECT * FROM gender_age_train', con=server)\n",
    "df3 = pd.read_sql('SELECT * FROM phone_brand_device_model', con=server)\n",
    "server.close\n",
    "\n",
    "#ADDITIONAL REQUIRED INFO\n",
    "eng_names = np.array([['华为','Huawei'],\n",
    "                      ['小米','Xiaomi'],\n",
    "                      ['三星','Samsung'],\n",
    "                      ['vivo','vivo'],\n",
    "                      ['OPPO','OPPO'],\n",
    "                      ['魅族','Meizu'],\n",
    "                      ['酷派','Coolpad'],\n",
    "                      ['乐视','LeEco'],\n",
    "                      ['联想','Lenovo'],\n",
    "                      ['HTC','HTC']])"
   ]
  },
  {
   "cell_type": "code",
   "execution_count": 3,
   "id": "5f59f8f0",
   "metadata": {},
   "outputs": [
    {
     "name": "stdout",
     "output_type": "stream",
     "text": [
      "Check 1 - Latitude and Longitude are always missing in pairs - False\n",
      "-------------------------------------------------------------------------------------\n",
      "Check 2 - There are 943 unique city-state pairs, and 933 unique cities\n",
      "-------------------------------------------------------------------------------------\n",
      "-------------------------------------------------------------------------------------\n",
      "Check 4 - There are 32 unique entries in the \"state\" column.\n"
     ]
    }
   ],
   "source": [
    "# Some output formatting assistance\n",
    "def line_break():\n",
    "    print('-------------------------------------------------------------------------------------')\n",
    "\n",
    "\n",
    "\n",
    "# Check 1 - Whether longitude and latitude are always missing in pairs:\n",
    "# This code creates two dataframes, containing the index values (row numbers) of the rows where either one is missing, and then checks if the two dataframes are identical.\n",
    "# If they are identical, then they are always missing in pairs.\n",
    "Check1 = df1[df1['latitude'].isnull()].index.equals(df1['longitude'].isnull().index)\n",
    "print(\"Check 1 - Latitude and Longitude are always missing in pairs - \" + str(Check1))\n",
    "\n",
    "line_break()\n",
    "\n",
    "# Check 2 - Whether each city only exists in one state\n",
    "# This code creates a dataframe containing unique city-state pairs, and the length of this dataframe is compared to the number of unique cities.\n",
    "# If they are of different length, then we cannot calculate the state using the city\n",
    "city_state_pairs = df1[df1['state'].notnull()][['city','state']].drop_duplicates()\n",
    "unique_cities = df1['city'].nunique()\n",
    "print('Check 2 - There are ' + str(len(city_state_pairs)) + ' unique city-state pairs, and ' + str(unique_cities) + ' unique cities')\n",
    "#These two numbers are not equal. This means that some cities are present in multiple states. To verify:\n",
    "city_state_pairs['city'].value_counts()[0:11]\n",
    "\n",
    "line_break()\n",
    "\n",
    "# Check 3 - Whether we can use coordinates to find the state\n",
    "Check3a = df1[df1['latitude'].isnull()].index.tolist()\n",
    "Check3b = df1[df1['state'].isnull()].index.tolist()\n",
    "for i in Check3a:\n",
    "    if i in Check3b:\n",
    "        print('Check 3 - In row ' + str(i) + ', both the coordinates and the city are missing')\n",
    "# This prints nothing; therefore, we can use coordinates to find the city.\n",
    "# This is foolproof, as each coordinate pair MUST refer to only one state\n",
    "\n",
    "line_break()\n",
    "\n",
    "# Check 4 - Keep track of number of unique entries in \"state\"\n",
    "# After adding the states using geopy, if the syntax is wrong, then this will help detect that:\n",
    "print('Check 4 - There are ' + str(df1['state'].nunique()) + ' unique entries in the \"state\" column.')\n",
    "\n"
   ]
  },
  {
   "cell_type": "code",
   "execution_count": 4,
   "id": "032c03ff",
   "metadata": {},
   "outputs": [
    {
     "name": "stdout",
     "output_type": "stream",
     "text": [
      "32\n"
     ]
    }
   ],
   "source": [
    "# This is a list containing the index values of all rows where state is a null value.\n",
    "null_records = df1[df1['state'].isnull()].index.tolist()\n",
    "# This section of code fills in those values via geopy and a loop over the rows with null values\n",
    "geolocator = nm(user_agent=\"my-applications\")\n",
    "for i in null_records:\n",
    "    location = geolocator.reverse([df1.at[i,'latitude'],df1.at[i,'longitude']])\n",
    "    # the code for location is taken from https://www.geeksforgeeks.org/python-remove-spaces-from-a-string/\n",
    "    df1.at[i,'state'] = location.raw['address'].get('state', '').replace(' ','')\n",
    "\n",
    "print(df1['state'].nunique())\n",
    "\n",
    "## THIS DOES THE FILTERING FOR MAHARASHTRA\n",
    "df1 = df1[df1['state'] == \"Maharashtra\"]"
   ]
  },
  {
   "cell_type": "code",
   "execution_count": 5,
   "id": "3b191562",
   "metadata": {},
   "outputs": [
    {
     "name": "stdout",
     "output_type": "stream",
     "text": [
      "<class 'pandas.core.frame.DataFrame'>\n",
      "Int64Index: 63 entries, 20586 to 3240304\n",
      "Data columns (total 7 columns):\n",
      " #   Column     Non-Null Count  Dtype  \n",
      "---  ------     --------------  -----  \n",
      " 0   event_id   63 non-null     int64  \n",
      " 1   device_id  63 non-null     float64\n",
      " 2   timestamp  63 non-null     object \n",
      " 3   longitude  0 non-null      float64\n",
      " 4   latitude   0 non-null      float64\n",
      " 5   city       63 non-null     object \n",
      " 6   state      63 non-null     object \n",
      "dtypes: float64(3), int64(1), object(3)\n",
      "memory usage: 3.9+ KB\n",
      "None\n",
      "-------------------------------------------------------------------------------------\n",
      "-7.364841e+18    21\n",
      " 7.018600e+18    21\n",
      " 5.115185e+18    21\n",
      "Name: device_id, dtype: int64\n"
     ]
    }
   ],
   "source": [
    "# Studying the null values in the coordinates. \n",
    "# This dataframe contains only the rows with null values in the coordinates\n",
    "t1 = df1[df1['longitude'].isnull()]\n",
    "print(t1.info())\n",
    "line_break()\n",
    "# This shows the device_ids present in the records with missing coordinates. \n",
    "# For MHA, there are 3 missing ids with 21 missing coordinates each. For all-India, there are 21 missing ids with 14-22 missing coordinates each.\n",
    "print(t1['device_id'].value_counts())\n",
    "# This stores the unique device_ids, so we can study them across the whole database.\n",
    "bad_coords_id = t1['device_id'].value_counts().index"
   ]
  },
  {
   "cell_type": "code",
   "execution_count": 6,
   "id": "963c9e47",
   "metadata": {},
   "outputs": [
    {
     "name": "stdout",
     "output_type": "stream",
     "text": [
      "latitude  longitude\n",
      "18.54074  73.931944    2604\n",
      "dtype: int64\n",
      "<class 'pandas.core.frame.DataFrame'>\n",
      "Int64Index: 2625 entries, 1678 to 3251982\n",
      "Data columns (total 2 columns):\n",
      " #   Column     Non-Null Count  Dtype  \n",
      "---  ------     --------------  -----  \n",
      " 0   latitude   2604 non-null   float64\n",
      " 1   longitude  2604 non-null   float64\n",
      "dtypes: float64(2)\n",
      "memory usage: 61.5 KB\n",
      "None\n",
      "-------------------------------------------------------------------------------------\n",
      "latitude   longitude\n",
      "18.575747  73.926223    1894\n",
      "dtype: int64\n",
      "<class 'pandas.core.frame.DataFrame'>\n",
      "Int64Index: 1915 entries, 822 to 3252657\n",
      "Data columns (total 2 columns):\n",
      " #   Column     Non-Null Count  Dtype  \n",
      "---  ------     --------------  -----  \n",
      " 0   latitude   1894 non-null   float64\n",
      " 1   longitude  1894 non-null   float64\n",
      "dtypes: float64(2)\n",
      "memory usage: 44.9 KB\n",
      "None\n",
      "-------------------------------------------------------------------------------------\n",
      "latitude   longitude\n",
      "18.556741  73.88868     1864\n",
      "dtype: int64\n",
      "<class 'pandas.core.frame.DataFrame'>\n",
      "Int64Index: 1885 entries, 842 to 3252195\n",
      "Data columns (total 2 columns):\n",
      " #   Column     Non-Null Count  Dtype  \n",
      "---  ------     --------------  -----  \n",
      " 0   latitude   1864 non-null   float64\n",
      " 1   longitude  1864 non-null   float64\n",
      "dtypes: float64(2)\n",
      "memory usage: 44.2 KB\n",
      "None\n",
      "-------------------------------------------------------------------------------------\n"
     ]
    }
   ],
   "source": [
    "# These count the number of unique coordinate pairs that the device_ids have across the whole database\n",
    "# Note that each of the device_ids has one unique coordinate pair associated with it across ALL records. This means that the device was used from the same location all the time\n",
    "# There are multiple hundred rows for each device_id with the coordinates present, so we can safely substitute the missing values with the device_id's coordinates.\n",
    "for i in range(0,len(bad_coords_id)):\n",
    "    print(df1[df1['device_id'] == bad_coords_id[i]][['latitude','longitude']].value_counts())\n",
    "    print(df1[df1['device_id'] == bad_coords_id[i]][['latitude','longitude']].info())\n",
    "    line_break()"
   ]
  },
  {
   "cell_type": "code",
   "execution_count": 7,
   "id": "e1804d48",
   "metadata": {},
   "outputs": [
    {
     "name": "stdout",
     "output_type": "stream",
     "text": [
      "<class 'pandas.core.frame.DataFrame'>\n",
      "Int64Index: 677168 entries, 9 to 3252946\n",
      "Data columns (total 7 columns):\n",
      " #   Column     Non-Null Count   Dtype  \n",
      "---  ------     --------------   -----  \n",
      " 0   event_id   677168 non-null  int64  \n",
      " 1   device_id  677096 non-null  float64\n",
      " 2   timestamp  677168 non-null  object \n",
      " 3   longitude  677168 non-null  float64\n",
      " 4   latitude   677168 non-null  float64\n",
      " 5   city       677168 non-null  object \n",
      " 6   state      677168 non-null  object \n",
      "dtypes: float64(3), int64(1), object(3)\n",
      "memory usage: 57.5+ MB\n"
     ]
    }
   ],
   "source": [
    "# Doing the substitution here\n",
    "for i in range(0,len(bad_coords_id)):\n",
    "    values = {}\n",
    "    replacement = df1[df1['device_id'] == bad_coords_id[i]][['latitude','longitude']].value_counts().index[0]\n",
    "    values['latitude'] = replacement[0]\n",
    "    values['longitude'] = replacement[1]\n",
    "    df1[df1['device_id'] == bad_coords_id[i]] = df1.fillna(value = values)\n",
    "df1.info(show_counts=True)"
   ]
  },
  {
   "cell_type": "code",
   "execution_count": 8,
   "id": "d504eeaa",
   "metadata": {},
   "outputs": [
    {
     "name": "stdout",
     "output_type": "stream",
     "text": [
      "<class 'pandas.core.frame.DataFrame'>\n",
      "Int64Index: 677159 entries, 9 to 3252946\n",
      "Data columns (total 7 columns):\n",
      " #   Column     Non-Null Count   Dtype  \n",
      "---  ------     --------------   -----  \n",
      " 0   event_id   677159 non-null  int64  \n",
      " 1   device_id  677087 non-null  float64\n",
      " 2   timestamp  677159 non-null  object \n",
      " 3   longitude  677159 non-null  float64\n",
      " 4   latitude   677159 non-null  float64\n",
      " 5   city       677159 non-null  object \n",
      " 6   state      677159 non-null  object \n",
      "dtypes: float64(3), int64(1), object(3)\n",
      "memory usage: 41.3+ MB\n"
     ]
    }
   ],
   "source": [
    "# This takes out the 9 points outside of Maharashtra, based on folium visualization (removed that code, as it takes AGES). \n",
    "# The most eastern point of the 9 was in Kabul at ~69 longitude, so a cutoff of 72 is used here.\n",
    "\n",
    "df1 = df1[df1['longitude'] > 72]\n",
    "df1.info(show_counts=True)"
   ]
  },
  {
   "cell_type": "code",
   "execution_count": 9,
   "id": "333715c9",
   "metadata": {},
   "outputs": [
    {
     "name": "stdout",
     "output_type": "stream",
     "text": [
      "<class 'pandas.core.frame.DataFrame'>\n",
      "Int64Index: 677159 entries, 9 to 3252946\n",
      "Data columns (total 7 columns):\n",
      " #   Column     Non-Null Count   Dtype  \n",
      "---  ------     --------------   -----  \n",
      " 0   event_id   677159 non-null  int64  \n",
      " 1   device_id  677087 non-null  float64\n",
      " 2   timestamp  677159 non-null  object \n",
      " 3   longitude  677159 non-null  float64\n",
      " 4   latitude   677159 non-null  float64\n",
      " 5   city       677159 non-null  object \n",
      " 6   state      677159 non-null  object \n",
      "dtypes: float64(3), int64(1), object(3)\n",
      "memory usage: 41.3+ MB\n",
      "None\n",
      "<class 'pandas.core.frame.DataFrame'>\n",
      "Int64Index: 9013 entries, 9 to 3252798\n",
      "Data columns (total 3 columns):\n",
      " #   Column     Non-Null Count  Dtype  \n",
      "---  ------     --------------  -----  \n",
      " 0   device_id  9010 non-null   float64\n",
      " 1   longitude  9013 non-null   float64\n",
      " 2   latitude   9013 non-null   float64\n",
      "dtypes: float64(3)\n",
      "memory usage: 281.7 KB\n",
      "None\n",
      "<class 'pandas.core.frame.DataFrame'>\n",
      "Int64Index: 9011 entries, 9 to 3252798\n",
      "Data columns (total 1 columns):\n",
      " #   Column     Non-Null Count  Dtype  \n",
      "---  ------     --------------  -----  \n",
      " 0   device_id  9010 non-null   float64\n",
      "dtypes: float64(1)\n",
      "memory usage: 140.8 KB\n",
      "None\n",
      "<class 'pandas.core.frame.DataFrame'>\n",
      "Int64Index: 9010 entries, 9 to 3252798\n",
      "Data columns (total 2 columns):\n",
      " #   Column     Non-Null Count  Dtype  \n",
      "---  ------     --------------  -----  \n",
      " 0   longitude  9010 non-null   float64\n",
      " 1   latitude   9010 non-null   float64\n",
      "dtypes: float64(2)\n",
      "memory usage: 211.2 KB\n",
      "None\n"
     ]
    }
   ],
   "source": [
    "# Check 5 - Whether each device_id has got a unique corresponding coordinate.\n",
    "# Same number of coordinate entires after dropping duplicates even if we include device_id\n",
    "# This means that the above check is True\n",
    "print(df1.info(show_counts = True))\n",
    "print(df1[['device_id','longitude','latitude']].drop_duplicates().info())\n",
    "print(df1[['device_id']].drop_duplicates().info())\n",
    "print(df1[['longitude','latitude']].drop_duplicates().info())"
   ]
  },
  {
   "cell_type": "code",
   "execution_count": 10,
   "id": "578f90dd",
   "metadata": {},
   "outputs": [
    {
     "name": "stdout",
     "output_type": "stream",
     "text": [
      "<class 'pandas.core.frame.DataFrame'>\n",
      "Int64Index: 72 entries, 45052 to 3135318\n",
      "Data columns (total 7 columns):\n",
      " #   Column     Non-Null Count  Dtype  \n",
      "---  ------     --------------  -----  \n",
      " 0   event_id   72 non-null     int64  \n",
      " 1   device_id  0 non-null      float64\n",
      " 2   timestamp  72 non-null     object \n",
      " 3   longitude  72 non-null     float64\n",
      " 4   latitude   72 non-null     float64\n",
      " 5   city       72 non-null     object \n",
      " 6   state      72 non-null     object \n",
      "dtypes: float64(3), int64(1), object(3)\n",
      "memory usage: 4.5+ KB\n",
      "None\n",
      "-------------------------------------------------------------------------------------\n",
      "longitude  latitude \n",
      "73.860165  18.566925    24\n",
      "73.862756  18.628057    24\n",
      "73.926499  18.614812    24\n",
      "dtype: int64\n"
     ]
    }
   ],
   "source": [
    "# Studying the null values in the device_ids. Yes, this is literally a duplicate of what was done for the coordinates.\n",
    "# This dataframe contains only the rows with null values in device_id\n",
    "t2 = df1[df1['device_id'].isnull()]\n",
    "print(t2.info())\n",
    "line_break()\n",
    "# This shows the coordinate pairs that are present with missing device_ids. \n",
    "# Note that there are only 3 unique pairs, with 24 missing device_ids each.\n",
    "print(t2[['longitude','latitude']].value_counts())\n",
    "# This stores the 3 unique coordinate, so we can study them across the whole database.\n",
    "bad_device_id = t2[['longitude','latitude']].value_counts().index"
   ]
  },
  {
   "cell_type": "code",
   "execution_count": 11,
   "id": "18051336",
   "metadata": {},
   "outputs": [
    {
     "name": "stdout",
     "output_type": "stream",
     "text": [
      "8.539871e+18    1793\n",
      "Name: device_id, dtype: int64\n",
      "-------------------------------------------------------------------------------------\n",
      "device_id   \n",
      "9.027086e+18    1767\n",
      "dtype: int64\n",
      "-------------------------------------------------------------------------------------\n",
      "device_id   \n",
      "1.771586e+17    1698\n",
      "dtype: int64\n"
     ]
    }
   ],
   "source": [
    "# These take the three aforementioned coordinate pairs and counts the device_id for each pair in the full database\n",
    "# Note that for each pair, only one device_id turns up\n",
    "# This means that for the 24 records missing device_ids, we can assume that the same device_id is used as for the hundreds of records at that coordinate which have device_id present.\n",
    "print(df1.loc[(df1['longitude'] == bad_device_id[0][0]) & (df1['latitude'] == bad_device_id[0][1])]['device_id'].value_counts())\n",
    "line_break()\n",
    "print(df1.loc[(df1['longitude'] == bad_device_id[1][0]) & (df1['latitude'] == bad_device_id[1][1])][['device_id']].value_counts())\n",
    "line_break()\n",
    "print(df1.loc[(df1['longitude'] == bad_device_id[2][0]) & (df1['latitude'] == bad_device_id[2][1])][['device_id']].value_counts())"
   ]
  },
  {
   "cell_type": "code",
   "execution_count": 12,
   "id": "7e3a343b",
   "metadata": {},
   "outputs": [
    {
     "name": "stdout",
     "output_type": "stream",
     "text": [
      "<class 'pandas.core.frame.DataFrame'>\n",
      "Int64Index: 677159 entries, 9 to 3252946\n",
      "Data columns (total 7 columns):\n",
      " #   Column     Non-Null Count   Dtype  \n",
      "---  ------     --------------   -----  \n",
      " 0   event_id   677159 non-null  int64  \n",
      " 1   device_id  677159 non-null  float64\n",
      " 2   timestamp  677159 non-null  object \n",
      " 3   longitude  677159 non-null  float64\n",
      " 4   latitude   677159 non-null  float64\n",
      " 5   city       677159 non-null  object \n",
      " 6   state      677159 non-null  object \n",
      "dtypes: float64(3), int64(1), object(3)\n",
      "memory usage: 57.5+ MB\n"
     ]
    }
   ],
   "source": [
    "# Doing the substitution here\n",
    "for i in range(0,3):\n",
    "    replacement = df1.loc[(df1['longitude'] == bad_device_id[i][0]) & (df1['latitude'] == bad_device_id[i][1])]['device_id'].value_counts().index[0]\n",
    "    (df1.loc[(df1['longitude'] == bad_device_id[i][0]) & (df1['latitude'] == bad_device_id[i][1])]) = df1.fillna(value = replacement)\n",
    "df1.info(show_counts=True)\n",
    "# This converts the device_id to int.\n",
    "df1['device_id'] = df1['device_id'].astype('int64')"
   ]
  },
  {
   "cell_type": "code",
   "execution_count": 13,
   "id": "4bd475a2",
   "metadata": {},
   "outputs": [],
   "source": [
    "dft = pd.merge(left=df1,right=df2,how='left',on='device_id')\n",
    "dfm = pd.merge(left=dft,right=df3,how='left',on='device_id')"
   ]
  },
  {
   "cell_type": "code",
   "execution_count": 14,
   "id": "314d864f",
   "metadata": {},
   "outputs": [
    {
     "name": "stdout",
     "output_type": "stream",
     "text": [
      "<class 'pandas.core.frame.DataFrame'>\n",
      "Int64Index: 677159 entries, 0 to 677158\n",
      "Data columns (total 12 columns):\n",
      " #   Column        Non-Null Count   Dtype  \n",
      "---  ------        --------------   -----  \n",
      " 0   event_id      677159 non-null  int64  \n",
      " 1   device_id     677159 non-null  int64  \n",
      " 2   timestamp     677159 non-null  object \n",
      " 3   longitude     677159 non-null  float64\n",
      " 4   latitude      677159 non-null  float64\n",
      " 5   city          677159 non-null  object \n",
      " 6   state         677159 non-null  object \n",
      " 7   gender        3177 non-null    object \n",
      " 8   age           3177 non-null    float64\n",
      " 9   group         3177 non-null    object \n",
      " 10  phone_brand   3177 non-null    object \n",
      " 11  device_model  3177 non-null    object \n",
      "dtypes: float64(3), int64(2), object(7)\n",
      "memory usage: 67.2+ MB\n"
     ]
    }
   ],
   "source": [
    "dfm.info(show_counts=True)"
   ]
  },
  {
   "cell_type": "code",
   "execution_count": 42,
   "id": "1be321d1",
   "metadata": {},
   "outputs": [],
   "source": [
    "# Assessing Q1 from Week 3\n",
    "# Drops duplicates based on device_id only, and then slices only the latitude and longitude from the remainder.\n",
    "dfq1 = dfm.drop_duplicates(subset = 'device_id', keep = 'first')[['latitude','longitude']]\n",
    "\n",
    "# Folium map\n",
    "q1_map = fm.Map(location = [19,72],tiles = 'cartodbpositron')\n",
    "# List of location coordinates\n",
    "locations = list(zip(dfq1['latitude'].tolist(),dfq1['longitude'].tolist()))\n",
    "# Creating a marker cluster\n",
    "marker_cluster = MarkerCluster(locations)\n",
    "# Adding it to the map\n",
    "marker_cluster.add_to(q1_map)\n",
    "# Saving the map\n",
    "q1_map.save('Question_1.html')"
   ]
  },
  {
   "cell_type": "code",
   "execution_count": null,
   "id": "955679a5",
   "metadata": {},
   "outputs": [],
   "source": [
    "df"
   ]
  }
 ],
 "metadata": {
  "kernelspec": {
   "display_name": "Python 3",
   "language": "python",
   "name": "python3"
  },
  "language_info": {
   "codemirror_mode": {
    "name": "ipython",
    "version": 3
   },
   "file_extension": ".py",
   "mimetype": "text/x-python",
   "name": "python",
   "nbconvert_exporter": "python",
   "pygments_lexer": "ipython3",
   "version": "3.9.7"
  }
 },
 "nbformat": 4,
 "nbformat_minor": 5
}
