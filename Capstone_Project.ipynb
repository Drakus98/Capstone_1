{
 "cells": [
  {
   "cell_type": "code",
   "execution_count": 2,
   "id": "b7b8b035",
   "metadata": {},
   "outputs": [],
   "source": [
    "import numpy as np\n",
    "import pandas as pd\n",
    "import mysql.connector as sql\n",
    "import matplotlib.pyplot as plt\n",
    "import seaborn as sns\n",
    "from geopy.geocoders import Nominatim as nm\n",
    "import folium as fm\n",
    "from folium.plugins import MarkerCluster\n",
    "from tqdm.notebook import tqdm\n",
    "\n",
    "%matplotlib qt\n"
   ]
  },
  {
   "cell_type": "code",
   "execution_count": 3,
   "id": "fe56b67e",
   "metadata": {},
   "outputs": [],
   "source": [
    "#IMPORTING ALL THREE DATA FRAMES \n",
    "df1 = pd.read_csv('events_data.csv')\n",
    "server = sql.connect(host='cpanel.insaid.co', database='Capstone1', user='student', password='student')\n",
    "\n",
    "df2 = pd.read_sql('SELECT * FROM gender_age_train', con=server)\n",
    "df3 = pd.read_sql('SELECT * FROM phone_brand_device_model', con=server)\n",
    "server.close\n",
    "\n",
    "#ADDITIONAL REQUIRED INFO\n",
    "eng_names = np.array([['华为','Huawei'],\n",
    "                      ['小米','Xiaomi'],\n",
    "                      ['三星','Samsung'],\n",
    "                      ['vivo','vivo'],\n",
    "                      ['OPPO','OPPO'],\n",
    "                      ['魅族','Meizu'],\n",
    "                      ['酷派','Coolpad'],\n",
    "                      ['乐视','LeEco'],\n",
    "                      ['联想','Lenovo'],\n",
    "                      ['HTC','HTC']])"
   ]
  },
  {
   "cell_type": "code",
   "execution_count": 4,
   "id": "5f59f8f0",
   "metadata": {},
   "outputs": [
    {
     "name": "stdout",
     "output_type": "stream",
     "text": [
      "Check 1 - Latitude and Longitude are always missing in pairs - False\n",
      "-------------------------------------------------------------------------------------\n",
      "Check 2 - There are 943 unique city-state pairs, and 933 unique cities\n",
      "-------------------------------------------------------------------------------------\n",
      "-------------------------------------------------------------------------------------\n",
      "Check 4 - There are 32 unique entries in the \"state\" column.\n"
     ]
    }
   ],
   "source": [
    "# Some output formatting assistance\n",
    "def line_break():\n",
    "    print('-------------------------------------------------------------------------------------')\n",
    "\n",
    "\n",
    "\n",
    "# Check 1 - Whether longitude and latitude are always missing in pairs:\n",
    "# This code creates two dataframes, containing the index values (row numbers) of the rows where either one is missing, and then checks if the two dataframes are identical.\n",
    "# If they are identical, then they are always missing in pairs.\n",
    "Check1 = df1[df1['latitude'].isnull()].index.equals(df1['longitude'].isnull().index)\n",
    "print(\"Check 1 - Latitude and Longitude are always missing in pairs - \" + str(Check1))\n",
    "\n",
    "line_break()\n",
    "\n",
    "# Check 2 - Whether each city only exists in one state\n",
    "# This code creates a dataframe containing unique city-state pairs, and the length of this dataframe is compared to the number of unique cities.\n",
    "# If they are of different length, then we cannot calculate the state using the city\n",
    "city_state_pairs = df1[df1['state'].notnull()][['city','state']].drop_duplicates()\n",
    "unique_cities = df1['city'].nunique()\n",
    "print('Check 2 - There are ' + str(len(city_state_pairs)) + ' unique city-state pairs, and ' + str(unique_cities) + ' unique cities')\n",
    "#These two numbers are not equal. This means that some cities are present in multiple states. To verify:\n",
    "city_state_pairs['city'].value_counts()[0:11]\n",
    "\n",
    "line_break()\n",
    "\n",
    "# Check 3 - Whether we can use coordinates to find the state\n",
    "Check3a = df1[df1['latitude'].isnull()].index.tolist()\n",
    "Check3b = df1[df1['state'].isnull()].index.tolist()\n",
    "for i in Check3a:\n",
    "    if i in Check3b:\n",
    "        print('Check 3 - In row ' + str(i) + ', both the coordinates and the city are missing')\n",
    "# This prints nothing; therefore, we can use coordinates to find the city.\n",
    "# This is foolproof, as each coordinate pair MUST refer to only one state\n",
    "\n",
    "line_break()\n",
    "\n",
    "# Check 4 - Keep track of number of unique entries in \"state\"\n",
    "# After adding the states using geopy, if the syntax is wrong, then this will help detect that:\n",
    "print('Check 4 - There are ' + str(df1['state'].nunique()) + ' unique entries in the \"state\" column.')"
   ]
  },
  {
   "cell_type": "code",
   "execution_count": 5,
   "id": "032c03ff",
   "metadata": {},
   "outputs": [
    {
     "name": "stdout",
     "output_type": "stream",
     "text": [
      "32\n"
     ]
    }
   ],
   "source": [
    "# This is a list containing the index values of all rows where state is a null value.\n",
    "null_records = df1[df1['state'].isnull()].index.tolist()\n",
    "# This section of code fills in those values via geopy and a loop over the rows with null values\n",
    "geolocator = nm(user_agent=\"my-applications\")\n",
    "for i in null_records:\n",
    "    location = geolocator.reverse([df1.at[i,'latitude'],df1.at[i,'longitude']])\n",
    "    # the code for location is taken from https://www.geeksforgeeks.org/python-remove-spaces-from-a-string/\n",
    "    df1.at[i,'state'] = location.raw['address'].get('state', '').replace(' ','')\n",
    "\n",
    "print(df1['state'].nunique())\n",
    "df1 = df1[df1['state'] == \"Maharashtra\"]"
   ]
  },
  {
   "cell_type": "code",
   "execution_count": 6,
   "id": "3b191562",
   "metadata": {},
   "outputs": [
    {
     "name": "stdout",
     "output_type": "stream",
     "text": [
      "<class 'pandas.core.frame.DataFrame'>\n",
      "Int64Index: 63 entries, 20586 to 3240304\n",
      "Data columns (total 7 columns):\n",
      " #   Column     Non-Null Count  Dtype  \n",
      "---  ------     --------------  -----  \n",
      " 0   event_id   63 non-null     int64  \n",
      " 1   device_id  63 non-null     float64\n",
      " 2   timestamp  63 non-null     object \n",
      " 3   longitude  0 non-null      float64\n",
      " 4   latitude   0 non-null      float64\n",
      " 5   city       63 non-null     object \n",
      " 6   state      63 non-null     object \n",
      "dtypes: float64(3), int64(1), object(3)\n",
      "memory usage: 3.9+ KB\n",
      "None\n",
      "-------------------------------------------------------------------------------------\n",
      "-7.364841e+18    21\n",
      " 7.018600e+18    21\n",
      " 5.115185e+18    21\n",
      "Name: device_id, dtype: int64\n"
     ]
    }
   ],
   "source": [
    "# Studying the null values in the coordinates. \n",
    "# This dataframe contains only the rows with null values in the coordinates\n",
    "t1 = df1[df1['longitude'].isnull()]\n",
    "print(t1.info())\n",
    "line_break()\n",
    "# This shows the device_ids present in the records with missing coordinates. \n",
    "# Note that there are only 3 unique device_ids, with 21 missing coordinate pairs each.\n",
    "print(t1['device_id'].value_counts())\n",
    "# This stores the 3 unique device_ids, so we can study them across the whole database.\n",
    "bad_coords_id = t1['device_id'].value_counts().index"
   ]
  },
  {
   "cell_type": "code",
   "execution_count": 7,
   "id": "963c9e47",
   "metadata": {},
   "outputs": [
    {
     "name": "stdout",
     "output_type": "stream",
     "text": [
      "latitude  longitude\n",
      "18.54074  73.931944    2604\n",
      "dtype: int64\n",
      "<class 'pandas.core.frame.DataFrame'>\n",
      "Int64Index: 2625 entries, 1678 to 3251982\n",
      "Data columns (total 2 columns):\n",
      " #   Column     Non-Null Count  Dtype  \n",
      "---  ------     --------------  -----  \n",
      " 0   latitude   2604 non-null   float64\n",
      " 1   longitude  2604 non-null   float64\n",
      "dtypes: float64(2)\n",
      "memory usage: 61.5 KB\n",
      "None\n",
      "-------------------------------------------------------------------------------------\n",
      "latitude   longitude\n",
      "18.575747  73.926223    1894\n",
      "dtype: int64\n",
      "<class 'pandas.core.frame.DataFrame'>\n",
      "Int64Index: 1915 entries, 822 to 3252657\n",
      "Data columns (total 2 columns):\n",
      " #   Column     Non-Null Count  Dtype  \n",
      "---  ------     --------------  -----  \n",
      " 0   latitude   1894 non-null   float64\n",
      " 1   longitude  1894 non-null   float64\n",
      "dtypes: float64(2)\n",
      "memory usage: 44.9 KB\n",
      "None\n",
      "-------------------------------------------------------------------------------------\n",
      "latitude   longitude\n",
      "18.556741  73.88868     1864\n",
      "dtype: int64\n",
      "<class 'pandas.core.frame.DataFrame'>\n",
      "Int64Index: 1885 entries, 842 to 3252195\n",
      "Data columns (total 2 columns):\n",
      " #   Column     Non-Null Count  Dtype  \n",
      "---  ------     --------------  -----  \n",
      " 0   latitude   1864 non-null   float64\n",
      " 1   longitude  1864 non-null   float64\n",
      "dtypes: float64(2)\n",
      "memory usage: 44.2 KB\n",
      "None\n"
     ]
    }
   ],
   "source": [
    "# These count the number of unique coordinate pairs that the 3 device_ids have across the whole database\n",
    "# Note that each of the three has one unique coordinate pair associated with it across ALL records. This means that the device was used from the same location all the time\n",
    "# There are well over a thousand rows for each device_id with the coordinates present, so we can safely substitute the missing values with the device_id's coordinates.\n",
    "print(df1[df1['device_id'] == bad_coords_id[0]][['latitude','longitude']].value_counts())\n",
    "print(df1[df1['device_id'] == bad_coords_id[0]][['latitude','longitude']].info())\n",
    "line_break()\n",
    "print(df1[df1['device_id'] == bad_coords_id[1]][['latitude','longitude']].value_counts())\n",
    "print(df1[df1['device_id'] == bad_coords_id[1]][['latitude','longitude']].info())\n",
    "line_break()\n",
    "print(df1[df1['device_id'] == bad_coords_id[2]][['latitude','longitude']].value_counts())\n",
    "print(df1[df1['device_id'] == bad_coords_id[2]][['latitude','longitude']].info())"
   ]
  },
  {
   "cell_type": "code",
   "execution_count": 8,
   "id": "e1804d48",
   "metadata": {},
   "outputs": [
    {
     "data": {
      "application/vnd.jupyter.widget-view+json": {
       "model_id": "7152d9d8ae32463792d2439fc211e70a",
       "version_major": 2,
       "version_minor": 0
      },
      "text/plain": [
       "  0%|          | 0/3 [00:00<?, ?it/s]"
      ]
     },
     "metadata": {},
     "output_type": "display_data"
    }
   ],
   "source": [
    "# Doing the substitution here\n",
    "for i in tqdm(range(0,3)):\n",
    "    values = {}\n",
    "    replacement = df1[df1['device_id'] == bad_coords_id[i]][['latitude','longitude']].value_counts().index[0]\n",
    "    values['latitude'] = replacement[0]\n",
    "    values['longitude'] = replacement[1]\n",
    "    df1[df1['device_id'] == bad_coords_id[i]] = df1.fillna(value = values)"
   ]
  },
  {
   "cell_type": "code",
   "execution_count": 9,
   "id": "4fc0f922",
   "metadata": {},
   "outputs": [
    {
     "name": "stdout",
     "output_type": "stream",
     "text": [
      "<class 'pandas.core.frame.DataFrame'>\n",
      "Int64Index: 677168 entries, 9 to 3252946\n",
      "Data columns (total 7 columns):\n",
      " #   Column     Non-Null Count   Dtype  \n",
      "---  ------     --------------   -----  \n",
      " 0   event_id   677168 non-null  int64  \n",
      " 1   device_id  677096 non-null  float64\n",
      " 2   timestamp  677168 non-null  object \n",
      " 3   longitude  677168 non-null  float64\n",
      " 4   latitude   677168 non-null  float64\n",
      " 5   city       677168 non-null  object \n",
      " 6   state      677168 non-null  object \n",
      "dtypes: float64(3), int64(1), object(3)\n",
      "memory usage: 57.5+ MB\n"
     ]
    }
   ],
   "source": [
    "df1.info(show_counts = True)"
   ]
  },
  {
   "cell_type": "code",
   "execution_count": null,
   "id": "d504eeaa",
   "metadata": {},
   "outputs": [],
   "source": []
  }
 ],
 "metadata": {
  "kernelspec": {
   "display_name": "Python 3",
   "language": "python",
   "name": "python3"
  },
  "language_info": {
   "codemirror_mode": {
    "name": "ipython",
    "version": 3
   },
   "file_extension": ".py",
   "mimetype": "text/x-python",
   "name": "python",
   "nbconvert_exporter": "python",
   "pygments_lexer": "ipython3",
   "version": "3.9.7"
  }
 },
 "nbformat": 4,
 "nbformat_minor": 5
}
