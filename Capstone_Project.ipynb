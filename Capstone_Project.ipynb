{
 "cells": [
  {
   "cell_type": "code",
   "execution_count": 30,
   "id": "b7b8b035",
   "metadata": {},
   "outputs": [],
   "source": [
    "import numpy as np\n",
    "import matplotlib.pyplot as plt\n",
    "import pandas as pd\n",
    "import mysql.connector as sql\n",
    "import seaborn as sns\n",
    "from geopy.geocoders import Nominatim as nm\n",
    "\n",
    "#%matplotlib qt\n"
   ]
  },
  {
   "cell_type": "code",
   "execution_count": 59,
   "id": "4c3874b7",
   "metadata": {},
   "outputs": [],
   "source": [
    "#IMPORTING ALL THREE DATA FRAMES \n",
    "df1 = pd.read_csv('events_data.csv')\n",
    "server = sql.connect(host='cpanel.insaid.co', database='Capstone1', user='student', password='student')\n",
    "\n",
    "df2 = pd.read_sql('SELECT * FROM gender_age_train', con=server)\n",
    "df3 = pd.read_sql('SELECT * FROM phone_brand_device_model', con=server)\n",
    "server.close\n",
    "\n",
    "#ADDITIONAL REQUIRED INFO\n",
    "eng_names = np.array([['华为','Huawei'],\n",
    "                      ['小米','Xiaomi'],\n",
    "                      ['三星','Samsung'],\n",
    "                      ['vivo','vivo'],\n",
    "                      ['OPPO','OPPO'],\n",
    "                      ['魅族','Meizu'],\n",
    "                      ['酷派','Coolpad'],\n",
    "                      ['乐视','LeEco'],\n",
    "                      ['联想','Lenovo'],\n",
    "                      ['HTC','HTC']])"
   ]
  },
  {
   "cell_type": "code",
   "execution_count": 60,
   "id": "5f59f8f0",
   "metadata": {},
   "outputs": [
    {
     "name": "stdout",
     "output_type": "stream",
     "text": [
      "Check 1 - Latitude and Longitude are always missing in pairs - False\n",
      "Check 2 - There are 943 unique city-state pairs, and 933 unique cities\n",
      "Check 4 - There are 32 unique entries in the \"state\" column.\n"
     ]
    }
   ],
   "source": [
    "# Check 1 - Whether longitude and latitude are always missing in pairs:\n",
    "# This code creates two dataframes, containing the index values (row numbers) of the rows where either one is missing, and then checks if the two dataframes are identical.\n",
    "# If they are identical, then they are always missing in pairs.\n",
    "Check1 = df1[df1['latitude'].isnull()].index.equals(df1['longitude'].isnull().index)\n",
    "print(\"Check 1 - Latitude and Longitude are always missing in pairs - \" + str(Check1))\n",
    "\n",
    "# Check 2 - Whether each city only exists in one state\n",
    "# This code creates a dataframe containing unique city-state pairs, and the length of this dataframe is compared to the number of unique cities.\n",
    "# If they are of different length, then we cannot calculate the state using the city\n",
    "city_state_pairs = df1[df1['state'].notnull()][['city','state']].drop_duplicates()\n",
    "unique_cities = df1['city'].nunique()\n",
    "print('Check 2 - There are ' + str(len(city_state_pairs)) + ' unique city-state pairs, and ' + str(unique_cities) + ' unique cities')\n",
    "#These two numbers are not equal. This means that some cities are present in multiple states. To verify:\n",
    "city_state_pairs['city'].value_counts()[0:11]\n",
    "\n",
    "# Check 3 - Whether we can use coordinates to find the state\n",
    "Check3a = df1[df1['latitude'].isnull()].index.tolist()\n",
    "Check3b = df1[df1['state'].isnull()].index.tolist()\n",
    "for i in Check3a:\n",
    "    if i in Check3b:\n",
    "        print('Check 3 - In row ' + str(i) + ', both the coordinates and the city are missing')\n",
    "# This prints nothing; therefore, we can use coordinates to find the city.\n",
    "# This is foolproof, as each coordinate pair MUST refer to only one state\n",
    "\n",
    "# Check 4 - Keep track of number of unique entries in \"state\"\n",
    "# After adding the states using geopy, if the syntax is wrong, then this will help detect that:\n",
    "print('Check 4 - There are ' + str(df1['state'].nunique()) + ' unique entries in the \"state\" column.')"
   ]
  },
  {
   "cell_type": "code",
   "execution_count": 65,
   "id": "032c03ff",
   "metadata": {},
   "outputs": [
    {
     "name": "stdout",
     "output_type": "stream",
     "text": [
      "32\n"
     ]
    }
   ],
   "source": [
    "#This is a list containing the index values of all rows where state is a null value.\n",
    "null_records = df1[df1['state'].isnull()].index.tolist()\n",
    "#This section of code fills in those values via geopy and a loop over the rows with null values\n",
    "geolocator = nm(user_agent=\"my-applications\")\n",
    "for i in null_records:\n",
    "    location = geolocator.reverse([df1.at[i,'latitude'],df1.at[i,'longitude']])\n",
    "    # the code for location is taken from https://www.geeksforgeeks.org/python-remove-spaces-from-a-string/\n",
    "    df1.at[i,'state'] = location.raw['address'].get('state', '').replace(' ','')\n",
    "\n",
    "print(df1['state'].nunique())"
   ]
  },
  {
   "cell_type": "code",
   "execution_count": null,
   "id": "b32d456d",
   "metadata": {},
   "outputs": [],
   "source": []
  }
 ],
 "metadata": {
  "kernelspec": {
   "display_name": "Python 3",
   "language": "python",
   "name": "python3"
  },
  "language_info": {
   "codemirror_mode": {
    "name": "ipython",
    "version": 3
   },
   "file_extension": ".py",
   "mimetype": "text/x-python",
   "name": "python",
   "nbconvert_exporter": "python",
   "pygments_lexer": "ipython3",
   "version": "3.7.10"
  }
 },
 "nbformat": 4,
 "nbformat_minor": 5
}
